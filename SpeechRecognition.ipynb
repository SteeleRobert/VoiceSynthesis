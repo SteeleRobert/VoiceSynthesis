{
 "cells": [
  {
   "cell_type": "code",
   "execution_count": null,
   "metadata": {},
   "outputs": [],
   "source": [
    "from pydub import AudioSegment\n",
    "import math"
   ]
  },
  {
   "cell_type": "code",
   "execution_count": null,
   "metadata": {},
   "outputs": [],
   "source": [
    "class SplitWavAudioMubin():\n",
    "    def __init__(self, startFolder, endFolder, filename):\n",
    "        self.folder = endFolder\n",
    "        self.filename = filename\n",
    "        self.filepath = startFolder + '/' + filename\n",
    "        \n",
    "        self.audio = AudioSegment.from_wav(self.filepath)\n",
    "    \n",
    "    def get_duration(self):\n",
    "        return self.audio.duration_seconds\n",
    "    \n",
    "    def single_split(self, from_sec, to_sec, split_filename):\n",
    "        t1 = from_sec  * 1000\n",
    "        t2 = to_sec  * 1000\n",
    "        split_audio = self.audio[t1:t2]\n",
    "        split_audio.export(self.folder + '/' + split_filename, format=\"wav\")\n",
    "        \n",
    "    def multiple_split(self, sec_per_split): \n",
    "        total_secs = math.ceil(self.get_duration())\n",
    "        for i in range(0, total_secs, sec_per_split):\n",
    "            split_fn = str(i) + '_' + self.filename\n",
    "            self.single_split(i, i+sec_per_split, split_fn)\n",
    "            print(str(i) + ' Done')\n",
    "            if i == total_secs - sec_per_split:\n",
    "                print('All splited successfully')"
   ]
  },
  {
   "cell_type": "code",
   "execution_count": null,
   "metadata": {},
   "outputs": [],
   "source": [
    "import os\n",
    "end_folder = 'Data/segmented_wav'\n",
    "start_folder = \"Data/cleaned_wav\"\n",
    "lsdir = os.listdir(start_folder)\n",
    "for file in lsdir:\n",
    "    split_wav = SplitWavAudioMubin(start_folder, end_folder, file)\n",
    "    split_wav.multiple_split(sec_per_split=10)"
   ]
  },
  {
   "cell_type": "code",
   "execution_count": null,
   "metadata": {},
   "outputs": [],
   "source": [
    "import speech_recognition as sr\n",
    "base = \"C:\\\\Users\\\\steel\\\\Dropbox\\\\DataScienceProjects\\\\VoiceSynthesis\\\\Data\\\\segmented_wav\\\\\"\n",
    "from os import path\n",
    "r = sr.Recognizer()\n",
    "with sr.AudioFile(base + \"700_SUPERCHAT_READING_Thank_you.wav\") as source:\n",
    "    audio = r.record(source)\n",
    "\n",
    "    "
   ]
  },
  {
   "cell_type": "code",
   "execution_count": null,
   "metadata": {},
   "outputs": [],
   "source": [
    "try:\n",
    "    print(\"Sphinx thinks you said \" + r.recognize_sphinx(audio))\n",
    "except sr.UnknownValueError:\n",
    "    print(\"Sphinx could not understand audio\")\n",
    "except sr.RequestError as e:\n",
    "    print(\"Sphinx error; {0}\".format(e))"
   ]
  },
  {
   "cell_type": "code",
   "execution_count": null,
   "metadata": {},
   "outputs": [],
   "source": [
    "AZURE_SPEECH_KEY = \"key\"  \n",
    "try:\n",
    "    print(\"Microsoft Azure Speech thinks you said \" + r.recognize_azure(audio, key=AZURE_SPEECH_KEY))\n",
    "except sr.UnknownValueError:\n",
    "    print(\"Microsoft Azure Speech could not understand audio\")\n",
    "except sr.RequestError as e:\n",
    "    print(\"Could not request results from Microsoft Azure Speech service; {0}\".format(e))"
   ]
  },
  {
   "cell_type": "code",
   "execution_count": null,
   "metadata": {},
   "outputs": [],
   "source": [
    "import azure.cognitiveservices.speech as speechsdk\n",
    "filename = base + \"700_SUPERCHAT_READING_Thank_you.wav\"\n",
    "filename = base + \"780_SUPERCHAT_READING_Thank_you.wav\"\n",
    "filename = base + \"1090_SUPERCHAT_READING_Thank_you.wav\"\n",
    "filename = base + \"0_SUPERCHAT_READING_Thank_you.wav\"\n",
    "def from_file(file):\n",
    "    speech_config = speechsdk.SpeechConfig(subscription=\"SUBSCRIPTION\", region='westcentralus')\n",
    "    audio_input = speechsdk.AudioConfig(filename=file)\n",
    "    speech_recognizer = speechsdk.SpeechRecognizer(speech_config=speech_config, audio_config=audio_input)\n",
    "    \n",
    "    result = speech_recognizer.recognize_once_async().get()\n",
    "    return result.text\n",
    "        \n"
   ]
  },
  {
   "cell_type": "code",
   "execution_count": null,
   "metadata": {},
   "outputs": [],
   "source": [
    "import os\n",
    "lsdir = os.listdir(base)\n",
    "data = []\n",
    "for file in lsdir:\n",
    "    text = from_file(base + file)\n",
    "    if len(text) > 0:\n",
    "        data.append([base + file, text])\n",
    "print(data)"
   ]
  },
  {
   "cell_type": "code",
   "execution_count": null,
   "metadata": {},
   "outputs": [],
   "source": [
    "data"
   ]
  },
  {
   "cell_type": "code",
   "execution_count": null,
   "metadata": {},
   "outputs": [],
   "source": [
    "import pandas as pd\n",
    "df = pd.DataFrame(data)\n",
    "df.to_csv('speech_rec.csv')"
   ]
  },
  {
   "cell_type": "code",
   "execution_count": null,
   "metadata": {},
   "outputs": [],
   "source": [
    "import pandas as pd\n",
    "df = pd.read_csv('speech_rec.csv')"
   ]
  },
  {
   "cell_type": "code",
   "execution_count": null,
   "metadata": {},
   "outputs": [],
   "source": [
    "df.head()"
   ]
  },
  {
   "cell_type": "code",
   "execution_count": null,
   "metadata": {},
   "outputs": [],
   "source": [
    "import shutil\n",
    "import os.path\n",
    "cnt = 0\n",
    "for ind, row in df.iterrows():\n",
    "    new_path = row['0'].split('\\\\')[-1]\n",
    "    if os.path.isfile(row['0']):\n",
    "        shutil.move(row['0'], new_path)\n",
    "    else:\n",
    "        cnt += 1\n",
    "print(cnt)"
   ]
  },
  {
   "cell_type": "code",
   "execution_count": null,
   "metadata": {},
   "outputs": [],
   "source": [
    "df.head()"
   ]
  },
  {
   "cell_type": "code",
   "execution_count": null,
   "metadata": {},
   "outputs": [],
   "source": [
    "for i in df.index:\n",
    "    new_path =  row['0'].split('\\\\')[-1]\n",
    "    print(new_path)\n",
    "    df['0'][i] = new_path"
   ]
  },
  {
   "cell_type": "code",
   "execution_count": null,
   "metadata": {},
   "outputs": [],
   "source": [
    "cnt = 0\n",
    "for ind, row in df.iterrows():\n",
    "    if not os.path.isfile(row['0']):\n",
    "\n",
    "        cnt += 1\n",
    "cnt\n"
   ]
  },
  {
   "cell_type": "code",
   "execution_count": null,
   "metadata": {},
   "outputs": [],
   "source": [
    "df.to_csv('speech_rec_real.csv')"
   ]
  },
  {
   "cell_type": "code",
   "execution_count": null,
   "metadata": {},
   "outputs": [],
   "source": [
    "with open('train.txt', 'w') as file:\n",
    "    for i, row in df.iterrows():\n",
    "        print(row['0'].split('\\\\')[-1]+'|'+row['1'])\n",
    "        text = (row['0'].split('\\\\')[-1]+'|'+row['1']).replace(u'\\u03c0', 'pi')\n",
    "        print(text)\n",
    "        file.write(text + '\\n')"
   ]
  },
  {
   "cell_type": "code",
   "execution_count": null,
   "metadata": {},
   "outputs": [],
   "source": [
    "with open('val.txt', 'w') as file:\n",
    "    for i, row in df.sample(760,axis = 0).iterrows():\n",
    "        print(row['0'].split('\\\\')[-1]+'|'+row['1'])\n",
    "        text = (row['0'].split('\\\\')[-1]+'|'+row['1']).replace(u'\\u03c0', 'pi')\n",
    "        print(text)\n",
    "        file.write(text + '\\n')"
   ]
  },
  {
   "cell_type": "code",
   "execution_count": null,
   "metadata": {},
   "outputs": [],
   "source": [
    "df.sample(760,axis = 0)"
   ]
  }
 ],
 "metadata": {
  "kernelspec": {
   "display_name": "Python 3 (ipykernel)",
   "language": "python",
   "name": "python3"
  },
  "language_info": {
   "codemirror_mode": {
    "name": "ipython",
    "version": 3
   },
   "file_extension": ".py",
   "mimetype": "text/x-python",
   "name": "python",
   "nbconvert_exporter": "python",
   "pygments_lexer": "ipython3",
   "version": "3.8.5"
  }
 },
 "nbformat": 4,
 "nbformat_minor": 4
}
