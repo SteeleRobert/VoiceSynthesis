{
 "cells": [
  {
   "cell_type": "code",
   "execution_count": null,
   "metadata": {},
   "outputs": [],
   "source": [
    "from azureml.core import Workspace\n",
    "\n",
    "ws = Workspace( 'SUBCRIPTION', \"RESOURCE\",'WORKSPACE')\n",
    "ws.write_config(path='.azureml')\n",
    "#ws = Workspace.from_config()"
   ]
  },
  {
   "cell_type": "code",
   "execution_count": null,
   "metadata": {},
   "outputs": [],
   "source": [
    "datastore = ws.get_default_datastore()\n",
    "datastore.upload(src_dir='Data/training_data',\n",
    "                 target_path='datasets/gura_voice',\n",
    "                 overwrite=True)"
   ]
  },
  {
   "cell_type": "code",
   "execution_count": null,
   "metadata": {},
   "outputs": [],
   "source": [
    "from azureml.core import Experiment\n",
    "\n",
    "experiment_name = 'gura_voice_synth'\n",
    "experiment = Experiment(workspace=ws, name=experiment_name)"
   ]
  },
  {
   "cell_type": "code",
   "execution_count": null,
   "metadata": {},
   "outputs": [],
   "source": [
    "from azureml.core.compute import ComputeTarget, AmlCompute\n",
    "from azureml.exceptions import ComputeTargetException\n",
    "\n",
    "# Choose a name for your cluster\n",
    "cluster_name = 'gpu-cluster'\n",
    "\n",
    "# Check to see if the cluster already exists\n",
    "try:\n",
    "    compute_target = ComputeTarget(workspace=ws, name=cluster_name)\n",
    "    print('Found existing compute target')\n",
    "except ComputeTargetException:\n",
    "    print('Creating a new compute target...')\n",
    "    compute_config = AmlCompute.provisioning_configuration(vm_size='VM_SIZE', \n",
    "                                                           idle_seconds_before_scaledown=2400,\n",
    "                                                           max_nodes=4)\n",
    "\n",
    "    compute_target = ComputeTarget.create(ws, cluster_name, compute_config)\n",
    "\n",
    "    compute_target.wait_for_completion(show_output=True, min_node_count=None, timeout_in_minutes=20)"
   ]
  },
  {
   "cell_type": "code",
   "execution_count": null,
   "metadata": {},
   "outputs": [],
   "source": [
    "compute_target.delete()"
   ]
  },
  {
   "cell_type": "code",
   "execution_count": null,
   "metadata": {},
   "outputs": [],
   "source": [
    "from azureml.core import Workspace, Environment\n",
    "\n",
    "\n",
    "env = Environment.from_conda_specification(\n",
    "        name='voice_synth',\n",
    "        file_path='./.azureml/environment.yml'\n",
    "    )"
   ]
  },
  {
   "cell_type": "code",
   "execution_count": null,
   "metadata": {},
   "outputs": [],
   "source": [
    "from azureml.core import Environment\n",
    "\n",
    "myenv = Environment(\"user-managed-env\")\n",
    "myenv.python.user_managed_dependencies = True\n",
    "\n",
    "# You can choose a specific Python environment by pointing to a Python path \n",
    "# myenv.python.interpreter_path = '/home/johndoe/miniconda3/envs/myenv/bin/python'\n",
    "myenv.docker.enabled = True\n",
    "myenv.docker.base_image = 'linux image'"
   ]
  },
  {
   "cell_type": "code",
   "execution_count": null,
   "metadata": {},
   "outputs": [],
   "source": [
    "from azureml.core import Dataset\n",
    "datastore = ws.get_default_datastore()\n",
    "dataset = Dataset.File.from_files(path=(datastore, 'datasets/gura_voice'))\n"
   ]
  },
  {
   "cell_type": "code",
   "execution_count": null,
   "metadata": {},
   "outputs": [],
   "source": [
    "path = dataset.as_named_input('input').as_mount()\n",
    "datastore"
   ]
  },
  {
   "cell_type": "code",
   "execution_count": null,
   "metadata": {},
   "outputs": [],
   "source": [
    "from azureml.core import ScriptRunConfig\n",
    "dataset = Dataset.File.from_files(path=(datastore, 'datasets/gura_voice'))\n",
    "\n",
    "src = ScriptRunConfig(source_directory='./src',\n",
    "                      script='train.py',\n",
    "                      compute_target=compute_target,\n",
    "                      environment=env,\n",
    "                      arguments = ['--output_directory','./output',\n",
    "                                   '--log_directory','./logs',\n",
    "                                   '--data_directory', dataset.as_named_input('input').as_mount(),\n",
    "                                   '-c', 'tacotron2_statedict.pt', \n",
    "                                   '--warm_start'])\n",
    "\n",
    "# Set compute target\n",
    "# Skip this if you are running on your local computer\n",
    "src.run_config.target = compute_target"
   ]
  },
  {
   "cell_type": "code",
   "execution_count": null,
   "metadata": {},
   "outputs": [],
   "source": [
    "run = experiment.submit(config=src)\n",
    "run.wait_for_completion(show_output=True)"
   ]
  },
  {
   "cell_type": "code",
   "execution_count": null,
   "metadata": {},
   "outputs": [],
   "source": [
    "from torch.utils.data import Dataset\n",
    "import torchaudio\n",
    "\n",
    "\n",
    "class UrbanSoundDataset(Dataset):\n",
    "#rapper for the UrbanSound8K dataset\n",
    "    # Argument List\n",
    "    #  path to the UrbanSound8K csv file\n",
    "    #  path to the UrbanSound8K audio files\n",
    "    #  list of folders to use in the dataset\n",
    "    \n",
    "    def __init__(self, csv_path, file_path, folderList):\n",
    "        csvData = pd.read_csv(csv_path)\n",
    "        #initialize lists to hold file names, labels, and folder numbers\n",
    "        self.file_names = []\n",
    "        self.labels = []\n",
    "        self.folders = []\n",
    "        #loop through the csv entries and only add entries from folders in the folder list\n",
    "        for i in range(0,len(csvData)):\n",
    "            if csvData.iloc[i, 5] in folderList:\n",
    "                self.file_names.append(csvData.iloc[i, 0])\n",
    "                self.labels.append(csvData.iloc[i, 6])\n",
    "                self.folders.append(csvData.iloc[i, 5])\n",
    "                \n",
    "        self.file_path = file_path\n",
    "        self.mixer = torchaudio.transforms.DownmixMono() #UrbanSound8K uses two channels, this will convert them to one\n",
    "        self.folderList = folderList\n",
    "        \n",
    "    def __getitem__(self, index):\n",
    "        #format the file path and load the file\n",
    "        path = self.file_path + \"fold\" + str(self.folders[index]) + \"/\" + self.file_names[index]\n",
    "        sound = torchaudio.load(path, out = None, normalization = True)\n",
    "        #load returns a tensor with the sound data and the sampling frequency (44.1kHz for UrbanSound8K)\n",
    "        soundData = self.mixer(sound[0])\n",
    "        #downsample the audio to ~8kHz\n",
    "        tempData = torch.zeros([160000, 1]) #tempData accounts for audio clips that are too short\n",
    "        if soundData.numel() < 160000:\n",
    "            tempData[:soundData.numel()] = soundData[:]\n",
    "        else:\n",
    "            tempData[:] = soundData[:160000]\n",
    "        \n",
    "        soundData = tempData\n",
    "        soundFormatted = torch.zeros([32000, 1])\n",
    "        soundFormatted[:32000] = soundData[::5] #take every fifth sample of soundData\n",
    "        soundFormatted = soundFormatted.permute(1, 0)\n",
    "        return soundFormatted, self.labels[index]\n",
    "    \n",
    "    def __len__(self):\n",
    "        return len(self.file_names)"
   ]
  },
  {
   "cell_type": "code",
   "execution_count": null,
   "metadata": {},
   "outputs": [],
   "source": [
    "from torch.utils.data import Dataset\n",
    "\n",
    "class VoiceSynthDataset(Dataset):"
   ]
  }
 ],
 "metadata": {
  "kernelspec": {
   "display_name": "Python 3 (ipykernel)",
   "language": "python",
   "name": "python3"
  },
  "language_info": {
   "codemirror_mode": {
    "name": "ipython",
    "version": 3
   },
   "file_extension": ".py",
   "mimetype": "text/x-python",
   "name": "python",
   "nbconvert_exporter": "python",
   "pygments_lexer": "ipython3",
   "version": "3.8.5"
  }
 },
 "nbformat": 4,
 "nbformat_minor": 4
}
